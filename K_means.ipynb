{
  "nbformat": 4,
  "nbformat_minor": 0,
  "metadata": {
    "colab": {
      "provenance": [],
      "name": "K-means",
      "authorship_tag": "ABX9TyMzuChXcVtCkaTnAZeoAbZ4",
      "include_colab_link": true
    },
    "kernelspec": {
      "name": "python3",
      "display_name": "Python 3"
    },
    "language_info": {
      "name": "python"
    }
  },
  "cells": [
    {
      "cell_type": "markdown",
      "metadata": {
        "id": "view-in-github",
        "colab_type": "text"
      },
      "source": [
        "<a href=\"https://colab.research.google.com/github/Aida-Aliyyah/Tugas-2-Mechine-Learning/blob/main/K_means.ipynb\" target=\"_parent\"><img src=\"https://colab.research.google.com/assets/colab-badge.svg\" alt=\"Open In Colab\"/></a>"
      ]
    },
    {
      "cell_type": "code",
      "execution_count": null,
      "metadata": {
        "colab": {
          "base_uri": "https://localhost:8080/"
        },
        "id": "hzs3Coi3BIhu",
        "outputId": "2642523a-7b40-43d9-c628-1f78ae9ba0c1"
      },
      "outputs": [
        {
          "output_type": "stream",
          "name": "stdout",
          "text": [
            "Initial centroids: [4.25 8.75]\n",
            "Iteration 1, Centroids: [3.   9.25]\n",
            "\n",
            "Final clusters:\n",
            "Cluster C1: [2, 3, 4]\n",
            "Cluster C2: [7, 9, 10, 11]\n"
          ]
        }
      ],
      "source": [
        "import numpy as np\n",
        "\n",
        "# Fungsi untuk menentukan klaster berdasarkan jarak terdekat ke centroid\n",
        "def assign_clusters(data, centroids):\n",
        "    clusters = {i: [] for i in range(len(centroids))}\n",
        "    for x in data:\n",
        "        # Menentukan klaster dengan centroid terdekat\n",
        "        closest_centroid_idx = np.argmin([abs(x - c) for c in centroids])\n",
        "        clusters[closest_centroid_idx].append(x)\n",
        "    return clusters\n",
        "\n",
        "# Fungsi untuk menghitung nilai centroid baru berdasarkan nilai rata-rata klaster\n",
        "def update_centroids(clusters):\n",
        "    new_centroids = []\n",
        "    for points in clusters.values():\n",
        "        if points:\n",
        "            new_centroids.append(np.mean(points))\n",
        "        else:\n",
        "            new_centroids.append(0)  # Menghindari nilai centroid kosong\n",
        "    return new_centroids\n",
        "\n",
        "# Fungsi utama K-Means tanpa batas iterasi dengan pembatas centroid\n",
        "def kmeans_with_boundaries(data, k):\n",
        "    min_val = min(data)\n",
        "    max_val = max(data)\n",
        "\n",
        "    # Menghitung selisih dan interval pembagian klaster\n",
        "    range_val = max_val - min_val\n",
        "    interval = range_val / k\n",
        "\n",
        "    # Inisialisasi centroid awal yang berada di batas tiap pembagian\n",
        "    centroids = np.array([min_val + i * interval + interval / 2 for i in range(k)])\n",
        "    print(f\"Initial centroids: {centroids}\")\n",
        "\n",
        "    # Algoritma K-Means\n",
        "    previous_clusters = None\n",
        "    iteration = 0\n",
        "\n",
        "    while True:\n",
        "        iteration += 1\n",
        "        # Menentukan klaster berdasarkan centroid\n",
        "        clusters = assign_clusters(data, centroids)\n",
        "\n",
        "        # Berhenti jika klaster tidak berubah dibandingkan iterasi sebelumnya\n",
        "        if clusters == previous_clusters:\n",
        "            break\n",
        "\n",
        "        # Update centroid\n",
        "        centroids = np.array(update_centroids(clusters))\n",
        "\n",
        "        print(f\"Iteration {iteration}, Centroids: {centroids}\")\n",
        "\n",
        "        # Simpan klaster iterasi sebelumnya untuk dibandingkan\n",
        "        previous_clusters = clusters\n",
        "\n",
        "    # Output akhir\n",
        "    print(\"\\nFinal clusters:\")\n",
        "    for idx, points in clusters.items():\n",
        "        print(f\"Cluster C{idx+1}: {points}\")\n",
        "\n",
        "# Data input dan jumlah klaster\n",
        "data = [2, 3, 4, 7, 9, 10, 11]\n",
        "k = 2  # Jumlah klaster yang diinginkan\n",
        "\n",
        "# Memanggil fungsi kmeans_with_boundaries dengan data dan jumlah klaster\n",
        "kmeans_with_boundaries(data, k)"
      ]
    }
  ]
}